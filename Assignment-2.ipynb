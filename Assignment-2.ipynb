{
 "cells": [
  {
   "cell_type": "code",
   "execution_count": 1,
   "id": "8d2041c6-3135-4006-b9fa-2621cc3385a5",
   "metadata": {},
   "outputs": [
    {
     "name": "stdout",
     "output_type": "stream",
     "text": [
      "loading annotations into memory...\n",
      "Done (t=29.04s)\n",
      "creating index...\n",
      "index created!\n",
      "loading annotations into memory...\n",
      "Done (t=1.34s)\n",
      "creating index...\n",
      "index created!\n",
      "Training images: 118287\n",
      "Testing images: 5000\n"
     ]
    }
   ],
   "source": [
    "import torch\n",
    "from torchvision import datasets, transforms\n",
    "\n",
    "# Load COCO dataset and define train/test splits\n",
    "train_data = datasets.CocoDetection(root='C:/Users/jhaka/Desktop/BSBI/Courses/Computer Vision/Assignment-2/coco/train2017', annFile='C:/Users/jhaka/Desktop/BSBI/Courses/Computer Vision/Assignment-2/coco/annotations/instances_train2017.json')\n",
    "test_data = datasets.CocoDetection(root='C:/Users/jhaka/Desktop/BSBI/Courses/Computer Vision/Assignment-2/coco/val2017', annFile='C:/Users/jhaka/Desktop/BSBI/Courses/Computer Vision/Assignment-2/coco/annotations/instances_val2017.json')\n",
    "\n",
    "print(f'Training images: {len(train_data)}')\n",
    "print(f'Testing images: {len(test_data)}')"
   ]
  },
  {
   "cell_type": "code",
   "execution_count": null,
   "id": "9fa71562-2352-4db5-a2ba-fa95ef2091fe",
   "metadata": {},
   "outputs": [],
   "source": [
    "import matplotlib.pyplot as plt\n",
    "import collections\n",
    "\n",
    "# Count the number of instances per class\n",
    "class_counts = collections.Counter([item['label'] for item in train_data])\n",
    "plt.bar(class_counts.keys(), class_counts.values())\n",
    "plt.xlabel('Class')\n",
    "plt.ylabel('Frequency')\n",
    "plt.title(\"COCO 2017 Class Distribution\")\n",
    "plt.show()"
   ]
  },
  {
   "cell_type": "code",
   "execution_count": 4,
   "id": "1659b1d9-57b2-4621-b5be-ee03596b4cdd",
   "metadata": {},
   "outputs": [
    {
     "name": "stdout",
     "output_type": "stream",
     "text": [
      "loading annotations into memory...\n",
      "Done (t=32.23s)\n",
      "creating index...\n",
      "index created!\n",
      "loading annotations into memory...\n",
      "Done (t=1.35s)\n",
      "creating index...\n",
      "index created!\n"
     ]
    }
   ],
   "source": [
    "from torchvision.transforms import Compose, ToTensor, Normalize, RandomHorizontalFlip\n",
    "\n",
    "# Define transformations\n",
    "transform = Compose([\n",
    "    RandomHorizontalFlip(),\n",
    "    ToTensor(),\n",
    "    Normalize(mean=[0.485, 0.456, 0.406], std=[0.229, 0.224, 0.225])\n",
    "])\n",
    "\n",
    "# Apply transformations to training and testing data\n",
    "train_data = datasets.CocoDetection(root='C:/Users/jhaka/Desktop/BSBI/Courses/Computer Vision/Assignment-2/coco/train2017', annFile='C:/Users/jhaka/Desktop/BSBI/Courses/Computer Vision/Assignment-2/coco/annotations/instances_train2017.json', transform=transform)\n",
    "test_data = datasets.CocoDetection(root='C:/Users/jhaka/Desktop/BSBI/Courses/Computer Vision/Assignment-2/coco/val2017', annFile='C:/Users/jhaka/Desktop/BSBI/Courses/Computer Vision/Assignment-2/coco/annotations/instances_val2017.json', transform=transform)\n"
   ]
  },
  {
   "cell_type": "code",
   "execution_count": null,
   "id": "0874234a-d4b0-4162-8eca-0038f7513d9e",
   "metadata": {},
   "outputs": [],
   "source": [
    "import torch\n",
    "from yolov5 import Model\n",
    "\n",
    "# Load YOLOv5 model pretrained on COCO\n",
    "model = torch.hub.load('ultralytics/yolov5', 'yolov5s', pretrained=True)\n",
    "\n",
    "# Switch model to training mode\n",
    "model.train()\n"
   ]
  },
  {
   "cell_type": "code",
   "execution_count": null,
   "id": "bd47a825-650b-451f-82fc-1e2a6e2c4c66",
   "metadata": {},
   "outputs": [],
   "source": [
    "# Set training parameters\n",
    "model.train(epochs=10, batch_size=16, imgsz=640)"
   ]
  },
  {
   "cell_type": "code",
   "execution_count": null,
   "id": "5ad18bdb-6b6c-4e1e-9a47-b772a9c46d4f",
   "metadata": {},
   "outputs": [],
   "source": [
    "# Model Evaluation\n",
    "metrics = model.val(data='coco.yaml')\n",
    "print(f\"mAP: {metrics['mAP@0.5']}\")\n",
    "print(f\"Precision: {metrics['precision']}\")\n",
    "print(f\"Recall: {metrics['recall']}\")"
   ]
  },
  {
   "cell_type": "code",
   "execution_count": null,
   "id": "d802767e-1cc1-467c-b25c-3330651905e3",
   "metadata": {},
   "outputs": [],
   "source": []
  }
 ],
 "metadata": {
  "kernelspec": {
   "display_name": "compvision",
   "language": "python",
   "name": "compvision"
  },
  "language_info": {
   "codemirror_mode": {
    "name": "ipython",
    "version": 3
   },
   "file_extension": ".py",
   "mimetype": "text/x-python",
   "name": "python",
   "nbconvert_exporter": "python",
   "pygments_lexer": "ipython3",
   "version": "3.12.0"
  }
 },
 "nbformat": 4,
 "nbformat_minor": 5
}
